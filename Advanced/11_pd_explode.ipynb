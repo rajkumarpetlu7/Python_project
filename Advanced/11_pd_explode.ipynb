{
 "cells": [
  {
   "cell_type": "code",
   "execution_count": 1,
   "metadata": {},
   "outputs": [
    {
     "name": "stderr",
     "output_type": "stream",
     "text": [
      "/Users/rajpetlu/anaconda3/envs/py312/lib/python3.12/site-packages/tqdm/auto.py:21: TqdmWarning: IProgress not found. Please update jupyter and ipywidgets. See https://ipywidgets.readthedocs.io/en/stable/user_install.html\n",
      "  from .autonotebook import tqdm as notebook_tqdm\n"
     ]
    }
   ],
   "source": [
    "# Importing Libraries\n",
    "import ast\n",
    "import pandas as pd\n",
    "from datasets import load_dataset\n",
    "import matplotlib.pyplot as plt  \n",
    "\n",
    "# Loading Data\n",
    "dataset = load_dataset('lukebarousse/data_jobs')\n",
    "df = dataset['train'].to_pandas()\n",
    "\n",
    "# Data Cleanup\n",
    "df['job_posted_date'] = pd.to_datetime(df['job_posted_date'])\n",
    "df['job_skills'] = df['job_skills'].apply(lambda x: ast.literal_eval(x) if pd.notna(x) else x)"
   ]
  },
  {
   "cell_type": "code",
   "execution_count": 2,
   "metadata": {},
   "outputs": [
    {
     "data": {
      "text/html": [
       "<div>\n",
       "<style scoped>\n",
       "    .dataframe tbody tr th:only-of-type {\n",
       "        vertical-align: middle;\n",
       "    }\n",
       "\n",
       "    .dataframe tbody tr th {\n",
       "        vertical-align: top;\n",
       "    }\n",
       "\n",
       "    .dataframe thead th {\n",
       "        text-align: right;\n",
       "    }\n",
       "</style>\n",
       "<table border=\"1\" class=\"dataframe\">\n",
       "  <thead>\n",
       "    <tr style=\"text-align: right;\">\n",
       "      <th></th>\n",
       "      <th>job_title_short</th>\n",
       "      <th>job_skills</th>\n",
       "    </tr>\n",
       "  </thead>\n",
       "  <tbody>\n",
       "    <tr>\n",
       "      <th>0</th>\n",
       "      <td>Senior Data Engineer</td>\n",
       "      <td>None</td>\n",
       "    </tr>\n",
       "    <tr>\n",
       "      <th>1</th>\n",
       "      <td>Data Analyst</td>\n",
       "      <td>[r, python, sql, nosql, power bi, tableau]</td>\n",
       "    </tr>\n",
       "    <tr>\n",
       "      <th>2</th>\n",
       "      <td>Data Engineer</td>\n",
       "      <td>[python, sql, c#, azure, airflow, dax, docker,...</td>\n",
       "    </tr>\n",
       "    <tr>\n",
       "      <th>3</th>\n",
       "      <td>Data Engineer</td>\n",
       "      <td>[python, c++, java, matlab, aws, tensorflow, k...</td>\n",
       "    </tr>\n",
       "    <tr>\n",
       "      <th>4</th>\n",
       "      <td>Data Engineer</td>\n",
       "      <td>[bash, python, oracle, aws, ansible, puppet, j...</td>\n",
       "    </tr>\n",
       "  </tbody>\n",
       "</table>\n",
       "</div>"
      ],
      "text/plain": [
       "        job_title_short                                         job_skills\n",
       "0  Senior Data Engineer                                               None\n",
       "1          Data Analyst         [r, python, sql, nosql, power bi, tableau]\n",
       "2         Data Engineer  [python, sql, c#, azure, airflow, dax, docker,...\n",
       "3         Data Engineer  [python, c++, java, matlab, aws, tensorflow, k...\n",
       "4         Data Engineer  [bash, python, oracle, aws, ansible, puppet, j..."
      ]
     },
     "execution_count": 2,
     "metadata": {},
     "output_type": "execute_result"
    }
   ],
   "source": [
    "df[['job_title_short', 'job_skills']].head()"
   ]
  },
  {
   "cell_type": "code",
   "execution_count": 3,
   "metadata": {},
   "outputs": [
    {
     "name": "stdout",
     "output_type": "stream",
     "text": [
      "Help on method explode in module pandas.core.frame:\n",
      "\n",
      "explode(column: 'IndexLabel', ignore_index: 'bool' = False) -> 'DataFrame' method of pandas.core.frame.DataFrame instance\n",
      "    Transform each element of a list-like to a row, replicating index values.\n",
      "\n",
      "    Parameters\n",
      "    ----------\n",
      "    column : IndexLabel\n",
      "        Column(s) to explode.\n",
      "        For multiple columns, specify a non-empty list with each element\n",
      "        be str or tuple, and all specified columns their list-like data\n",
      "        on same row of the frame must have matching length.\n",
      "\n",
      "        .. versionadded:: 1.3.0\n",
      "            Multi-column explode\n",
      "\n",
      "    ignore_index : bool, default False\n",
      "        If True, the resulting index will be labeled 0, 1, …, n - 1.\n",
      "\n",
      "    Returns\n",
      "    -------\n",
      "    DataFrame\n",
      "        Exploded lists to rows of the subset columns;\n",
      "        index will be duplicated for these rows.\n",
      "\n",
      "    Raises\n",
      "    ------\n",
      "    ValueError :\n",
      "        * If columns of the frame are not unique.\n",
      "        * If specified columns to explode is empty list.\n",
      "        * If specified columns to explode have not matching count of\n",
      "          elements rowwise in the frame.\n",
      "\n",
      "    See Also\n",
      "    --------\n",
      "    DataFrame.unstack : Pivot a level of the (necessarily hierarchical)\n",
      "        index labels.\n",
      "    DataFrame.melt : Unpivot a DataFrame from wide format to long format.\n",
      "    Series.explode : Explode a DataFrame from list-like columns to long format.\n",
      "\n",
      "    Notes\n",
      "    -----\n",
      "    This routine will explode list-likes including lists, tuples, sets,\n",
      "    Series, and np.ndarray. The result dtype of the subset rows will\n",
      "    be object. Scalars will be returned unchanged, and empty list-likes will\n",
      "    result in a np.nan for that row. In addition, the ordering of rows in the\n",
      "    output will be non-deterministic when exploding sets.\n",
      "\n",
      "    Reference :ref:`the user guide <reshaping.explode>` for more examples.\n",
      "\n",
      "    Examples\n",
      "    --------\n",
      "    >>> df = pd.DataFrame({'A': [[0, 1, 2], 'foo', [], [3, 4]],\n",
      "    ...                    'B': 1,\n",
      "    ...                    'C': [['a', 'b', 'c'], np.nan, [], ['d', 'e']]})\n",
      "    >>> df\n",
      "               A  B          C\n",
      "    0  [0, 1, 2]  1  [a, b, c]\n",
      "    1        foo  1        NaN\n",
      "    2         []  1         []\n",
      "    3     [3, 4]  1     [d, e]\n",
      "\n",
      "    Single-column explode.\n",
      "\n",
      "    >>> df.explode('A')\n",
      "         A  B          C\n",
      "    0    0  1  [a, b, c]\n",
      "    0    1  1  [a, b, c]\n",
      "    0    2  1  [a, b, c]\n",
      "    1  foo  1        NaN\n",
      "    2  NaN  1         []\n",
      "    3    3  1     [d, e]\n",
      "    3    4  1     [d, e]\n",
      "\n",
      "    Multi-column explode.\n",
      "\n",
      "    >>> df.explode(list('AC'))\n",
      "         A  B    C\n",
      "    0    0  1    a\n",
      "    0    1  1    b\n",
      "    0    2  1    c\n",
      "    1  foo  1  NaN\n",
      "    2  NaN  1  NaN\n",
      "    3    3  1    d\n",
      "    3    4  1    e\n",
      "\n"
     ]
    }
   ],
   "source": [
    "help(df.explode)"
   ]
  },
  {
   "cell_type": "code",
   "execution_count": 4,
   "metadata": {},
   "outputs": [],
   "source": [
    "df_exploded = df.explode('job_skills')"
   ]
  },
  {
   "cell_type": "code",
   "execution_count": 8,
   "metadata": {},
   "outputs": [
    {
     "data": {
      "text/plain": [
       "job_title_short    job_skills\n",
       "Business Analyst   airflow        318\n",
       "                   airtable        17\n",
       "                   alteryx       1078\n",
       "                   angular         87\n",
       "                   ansible        120\n",
       "                                 ... \n",
       "Software Engineer  wrike            4\n",
       "                   wsl             13\n",
       "                   xamarin         35\n",
       "                   yarn           145\n",
       "                   zoom           229\n",
       "Length: 2256, dtype: int64"
      ]
     },
     "execution_count": 8,
     "metadata": {},
     "output_type": "execute_result"
    }
   ],
   "source": [
    "skills_count = df_exploded.groupby(['job_title_short', 'job_skills']).size()\n",
    "skills_count\n"
   ]
  },
  {
   "cell_type": "code",
   "execution_count": 6,
   "metadata": {},
   "outputs": [
    {
     "data": {
      "text/html": [
       "<div>\n",
       "<style scoped>\n",
       "    .dataframe tbody tr th:only-of-type {\n",
       "        vertical-align: middle;\n",
       "    }\n",
       "\n",
       "    .dataframe tbody tr th {\n",
       "        vertical-align: top;\n",
       "    }\n",
       "\n",
       "    .dataframe thead th {\n",
       "        text-align: right;\n",
       "    }\n",
       "</style>\n",
       "<table border=\"1\" class=\"dataframe\">\n",
       "  <thead>\n",
       "    <tr style=\"text-align: right;\">\n",
       "      <th></th>\n",
       "      <th>job_title_short</th>\n",
       "      <th>job_skills</th>\n",
       "      <th>skill_count</th>\n",
       "    </tr>\n",
       "  </thead>\n",
       "  <tbody>\n",
       "    <tr>\n",
       "      <th>1066</th>\n",
       "      <td>Data Scientist</td>\n",
       "      <td>python</td>\n",
       "      <td>113711</td>\n",
       "    </tr>\n",
       "    <tr>\n",
       "      <th>865</th>\n",
       "      <td>Data Engineer</td>\n",
       "      <td>sql</td>\n",
       "      <td>113130</td>\n",
       "    </tr>\n",
       "    <tr>\n",
       "      <th>830</th>\n",
       "      <td>Data Engineer</td>\n",
       "      <td>python</td>\n",
       "      <td>108022</td>\n",
       "    </tr>\n",
       "    <tr>\n",
       "      <th>625</th>\n",
       "      <td>Data Analyst</td>\n",
       "      <td>sql</td>\n",
       "      <td>92428</td>\n",
       "    </tr>\n",
       "    <tr>\n",
       "      <th>1101</th>\n",
       "      <td>Data Scientist</td>\n",
       "      <td>sql</td>\n",
       "      <td>78982</td>\n",
       "    </tr>\n",
       "    <tr>\n",
       "      <th>...</th>\n",
       "      <td>...</td>\n",
       "      <td>...</td>\n",
       "      <td>...</td>\n",
       "    </tr>\n",
       "    <tr>\n",
       "      <th>266</th>\n",
       "      <td>Cloud Engineer</td>\n",
       "      <td>delphi</td>\n",
       "      <td>1</td>\n",
       "    </tr>\n",
       "    <tr>\n",
       "      <th>1920</th>\n",
       "      <td>Senior Data Scientist</td>\n",
       "      <td>objective-c</td>\n",
       "      <td>1</td>\n",
       "    </tr>\n",
       "    <tr>\n",
       "      <th>1400</th>\n",
       "      <td>Senior Data Analyst</td>\n",
       "      <td>couchdb</td>\n",
       "      <td>1</td>\n",
       "    </tr>\n",
       "    <tr>\n",
       "      <th>298</th>\n",
       "      <td>Cloud Engineer</td>\n",
       "      <td>haskell</td>\n",
       "      <td>1</td>\n",
       "    </tr>\n",
       "    <tr>\n",
       "      <th>631</th>\n",
       "      <td>Data Analyst</td>\n",
       "      <td>suse</td>\n",
       "      <td>1</td>\n",
       "    </tr>\n",
       "  </tbody>\n",
       "</table>\n",
       "<p>2256 rows × 3 columns</p>\n",
       "</div>"
      ],
      "text/plain": [
       "            job_title_short   job_skills  skill_count\n",
       "1066         Data Scientist       python       113711\n",
       "865           Data Engineer          sql       113130\n",
       "830           Data Engineer       python       108022\n",
       "625            Data Analyst          sql        92428\n",
       "1101         Data Scientist          sql        78982\n",
       "...                     ...          ...          ...\n",
       "266          Cloud Engineer       delphi            1\n",
       "1920  Senior Data Scientist  objective-c            1\n",
       "1400    Senior Data Analyst      couchdb            1\n",
       "298          Cloud Engineer      haskell            1\n",
       "631            Data Analyst         suse            1\n",
       "\n",
       "[2256 rows x 3 columns]"
      ]
     },
     "execution_count": 6,
     "metadata": {},
     "output_type": "execute_result"
    }
   ],
   "source": [
    "df_skills_count = skills_count.reset_index(name='skill_count')\n",
    "df_skills_count = df_skills_count.sort_values(by='skill_count', ascending=False)\n",
    "df_skills_count"
   ]
  },
  {
   "cell_type": "code",
   "execution_count": 7,
   "metadata": {},
   "outputs": [
    {
     "data": {
      "image/png": "[encoded data removed]",
      "text/plain": [
       "<Figure size 640x480 with 1 Axes>"
      ]
     },
     "metadata": {},
     "output_type": "display_data"
    }
   ],
   "source": [
    "job_title = 'Data Analyst'\n",
    "top_skills = 15\n",
    "\n",
    "df_skill_final = df_skills_count[df_skills_count['job_title_short']== job_title].head(top_skills)\n",
    "df_skill_final.plot(kind='barh', x='job_skills', y='skill_count')\n",
    "plt.gca().invert_yaxis()\n",
    "plt.title(f'Top {top_skills} Skills for {job_title}s')\n",
    "plt.xlabel('Job Posting Count')\n",
    "plt.ylabel('')\n",
    "plt.legend().set_visible(False)\n"
   ]
  },
  {
   "cell_type": "code",
   "execution_count": null,
   "metadata": {},
   "outputs": [],
   "source": []
  }
 ],
 "metadata": {
  "kernelspec": {
   "display_name": "py312",
   "language": "python",
   "name": "python3"
  },
  "language_info": {
   "codemirror_mode": {
    "name": "ipython",
    "version": 3
   },
   "file_extension": ".py",
   "mimetype": "text/x-python",
   "name": "python",
   "nbconvert_exporter": "python",
   "pygments_lexer": "ipython3",
   "version": "3.1.undefined"
  }
 },
 "nbformat": 4,
 "nbformat_minor": 2
}
